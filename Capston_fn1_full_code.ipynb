{
 "cells": [
  {
   "cell_type": "code",
   "execution_count": null,
   "metadata": {},
   "outputs": [],
   "source": [
    "##function manual_norm_dist_plotter\n",
    "#function will generate up to 5 normal distribution curves given user entries of mean and standard deviation\n",
    "\n",
    "\n",
    "def manual_norm_dist_plotter():\n",
    "    from matplotlib import pyplot as plt # matplot lib import for additional customization\n",
    "    %matplotlib inline \n",
    "    import pandas as pd\n",
    "    import numpy as np\n",
    "    import seaborn as sns # use seaborn for plotting\n",
    "    \n",
    "    # create an empty list to store up to 5 \"mean (i.e., average)\" measurements/values from up to 5 \"trials\"\n",
    "    means = [] \n",
    "    maxLenMeans = 5\n",
    "    while len(means) < maxLenMeans:\n",
    "        meanval = input(\"Enter mean values from up to 5 trials (or nothing to skip): \")\n",
    "        if meanval == '':\n",
    "            break\n",
    "        meanvaluef=float(meanval)\n",
    "        means.append(meanvaluef)\n",
    "\n",
    "    print(str(means) + \" <- Check mean values entered. If incorrect, skip next step and restart\") # allows user to check if entries are correct\n",
    "    print(\"\")\n",
    "\n",
    "    # create an empty list to store up to 5 user entered values for \"standard deviations\" from each \"trial\" used above for entering means\n",
    "    stdev=[]\n",
    "    maxlenstdev = 5\n",
    "    while len(stdev)<maxlenstdev:\n",
    "        stdevval=input(\"Enter up to 5 standard deviation values (from) same samples used for means (or nothing to skip): \")\n",
    "        if stdevval == '':\n",
    "            break\n",
    "        stdevf=float(stdevval)\n",
    "        stdev.append(stdevf)\n",
    "    \n",
    "    print(str(stdev) + \" <-Check standard deviation values entered. If incorrect, restart from beginning\")\n",
    "    print(\"Unless you see an error message or did not enter any values, your normal distribution curve(s) follow below:\")\n",
    "    \n",
    "    if len(means) == len(stdev):\n",
    "        for i in range(len(means)):\n",
    "            ax=sns.distplot(np.random.normal(means[i],stdev[i],1000), hist=False, label = i+1)\n",
    "            plt.xlabel(\"Values\")\n",
    "            plt.ylabel(\"Probability\")\n",
    "            i=i+1\n",
    "    else:\n",
    "        print(\"ERROR!!: Check your entries. You did not enter same number of mean and same number of standard deviation values!\")\n"
   ]
  },
  {
   "cell_type": "code",
   "execution_count": null,
   "metadata": {},
   "outputs": [],
   "source": [
    "manual_norm_dist_generator()"
   ]
  },
  {
   "cell_type": "code",
   "execution_count": null,
   "metadata": {},
   "outputs": [],
   "source": []
  }
 ],
 "metadata": {
  "kernelspec": {
   "display_name": "Python 3",
   "language": "python",
   "name": "python3"
  },
  "language_info": {
   "codemirror_mode": {
    "name": "ipython",
    "version": 3
   },
   "file_extension": ".py",
   "mimetype": "text/x-python",
   "name": "python",
   "nbconvert_exporter": "python",
   "pygments_lexer": "ipython3",
   "version": "3.6.4"
  }
 },
 "nbformat": 4,
 "nbformat_minor": 2
}
